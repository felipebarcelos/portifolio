{
 "cells": [
  {
   "cell_type": "code",
   "execution_count": 1,
   "metadata": {},
   "outputs": [],
   "source": [
    "import pandas as pd"
   ]
  },
  {
   "cell_type": "code",
   "execution_count": null,
   "metadata": {},
   "outputs": [],
   "source": []
  },
  {
   "cell_type": "code",
   "execution_count": 2,
   "metadata": {},
   "outputs": [],
   "source": [
    "import numpy as np"
   ]
  },
  {
   "cell_type": "code",
   "execution_count": 3,
   "metadata": {},
   "outputs": [],
   "source": [
    "import seaborn as sns"
   ]
  },
  {
   "cell_type": "code",
   "execution_count": 4,
   "metadata": {},
   "outputs": [],
   "source": [
    "import matplotlib.pyplot as plt"
   ]
  },
  {
   "cell_type": "code",
   "execution_count": 11,
   "metadata": {},
   "outputs": [],
   "source": [
    "df_covid = pd.read_csv('/home/local/IDEALINVEST/luis.soares/Downloads/covid19-17-08-2020.csv',encoding='utf-8')"
   ]
  },
  {
   "cell_type": "code",
   "execution_count": 12,
   "metadata": {},
   "outputs": [
    {
     "data": {
      "text/html": [
       "<div>\n",
       "<style scoped>\n",
       "    .dataframe tbody tr th:only-of-type {\n",
       "        vertical-align: middle;\n",
       "    }\n",
       "\n",
       "    .dataframe tbody tr th {\n",
       "        vertical-align: top;\n",
       "    }\n",
       "\n",
       "    .dataframe thead th {\n",
       "        text-align: right;\n",
       "    }\n",
       "</style>\n",
       "<table border=\"1\" class=\"dataframe\">\n",
       "  <thead>\n",
       "    <tr style=\"text-align: right;\">\n",
       "      <th></th>\n",
       "      <th>data</th>\n",
       "      <th>estado</th>\n",
       "      <th>cidade</th>\n",
       "      <th>confirmados</th>\n",
       "      <th>mortes</th>\n",
       "      <th>estimativa população</th>\n",
       "    </tr>\n",
       "  </thead>\n",
       "  <tbody>\n",
       "    <tr>\n",
       "      <td>0</td>\n",
       "      <td>2020-08-17</td>\n",
       "      <td>AL</td>\n",
       "      <td>Água Branca</td>\n",
       "      <td>69</td>\n",
       "      <td>2</td>\n",
       "      <td>20196.0</td>\n",
       "    </tr>\n",
       "    <tr>\n",
       "      <td>1</td>\n",
       "      <td>2020-08-17</td>\n",
       "      <td>AL</td>\n",
       "      <td>Anadia</td>\n",
       "      <td>425</td>\n",
       "      <td>6</td>\n",
       "      <td>17545.0</td>\n",
       "    </tr>\n",
       "    <tr>\n",
       "      <td>2</td>\n",
       "      <td>2020-08-17</td>\n",
       "      <td>AL</td>\n",
       "      <td>Arapiraca</td>\n",
       "      <td>9895</td>\n",
       "      <td>123</td>\n",
       "      <td>231747.0</td>\n",
       "    </tr>\n",
       "    <tr>\n",
       "      <td>3</td>\n",
       "      <td>2020-08-17</td>\n",
       "      <td>AL</td>\n",
       "      <td>Atalaia</td>\n",
       "      <td>540</td>\n",
       "      <td>17</td>\n",
       "      <td>47185.0</td>\n",
       "    </tr>\n",
       "    <tr>\n",
       "      <td>4</td>\n",
       "      <td>2020-08-17</td>\n",
       "      <td>AL</td>\n",
       "      <td>Barra de Santo Antônio</td>\n",
       "      <td>122</td>\n",
       "      <td>9</td>\n",
       "      <td>15932.0</td>\n",
       "    </tr>\n",
       "  </tbody>\n",
       "</table>\n",
       "</div>"
      ],
      "text/plain": [
       "         data estado                  cidade  confirmados  mortes  \\\n",
       "0  2020-08-17     AL             Água Branca           69       2   \n",
       "1  2020-08-17     AL                  Anadia          425       6   \n",
       "2  2020-08-17     AL               Arapiraca         9895     123   \n",
       "3  2020-08-17     AL                 Atalaia          540      17   \n",
       "4  2020-08-17     AL  Barra de Santo Antônio          122       9   \n",
       "\n",
       "   estimativa população  \n",
       "0               20196.0  \n",
       "1               17545.0  \n",
       "2              231747.0  \n",
       "3               47185.0  \n",
       "4               15932.0  "
      ]
     },
     "execution_count": 12,
     "metadata": {},
     "output_type": "execute_result"
    }
   ],
   "source": [
    "df_covid.head()"
   ]
  },
  {
   "cell_type": "code",
   "execution_count": 10,
   "metadata": {},
   "outputs": [
    {
     "ename": "AttributeError",
     "evalue": "'numpy.ndarray' object has no attribute 'to_numpy'",
     "output_type": "error",
     "traceback": [
      "\u001b[0;31m---------------------------------------------------------------------------\u001b[0m",
      "\u001b[0;31mAttributeError\u001b[0m                            Traceback (most recent call last)",
      "\u001b[0;32m<ipython-input-10-25f495aa8b8a>\u001b[0m in \u001b[0;36m<module>\u001b[0;34m\u001b[0m\n\u001b[0;32m----> 1\u001b[0;31m \u001b[0mdf_covid\u001b[0m \u001b[0;34m=\u001b[0m \u001b[0mdf_covid\u001b[0m\u001b[0;34m.\u001b[0m\u001b[0mto_numpy\u001b[0m\u001b[0;34m(\u001b[0m\u001b[0;34m)\u001b[0m\u001b[0;34m\u001b[0m\u001b[0;34m\u001b[0m\u001b[0m\n\u001b[0m",
      "\u001b[0;31mAttributeError\u001b[0m: 'numpy.ndarray' object has no attribute 'to_numpy'"
     ]
    }
   ],
   "source": [
    "df_covid = df_covid.to_numpy()"
   ]
  },
  {
   "cell_type": "code",
   "execution_count": 13,
   "metadata": {},
   "outputs": [
    {
     "data": {
      "text/html": [
       "<div>\n",
       "<style scoped>\n",
       "    .dataframe tbody tr th:only-of-type {\n",
       "        vertical-align: middle;\n",
       "    }\n",
       "\n",
       "    .dataframe tbody tr th {\n",
       "        vertical-align: top;\n",
       "    }\n",
       "\n",
       "    .dataframe thead th {\n",
       "        text-align: right;\n",
       "    }\n",
       "</style>\n",
       "<table border=\"1\" class=\"dataframe\">\n",
       "  <thead>\n",
       "    <tr style=\"text-align: right;\">\n",
       "      <th></th>\n",
       "      <th>data</th>\n",
       "      <th>estado</th>\n",
       "      <th>cidade</th>\n",
       "      <th>confirmados</th>\n",
       "      <th>mortes</th>\n",
       "      <th>estimativa população</th>\n",
       "    </tr>\n",
       "  </thead>\n",
       "  <tbody>\n",
       "    <tr>\n",
       "      <td>0</td>\n",
       "      <td>2020-08-17</td>\n",
       "      <td>AL</td>\n",
       "      <td>Água Branca</td>\n",
       "      <td>69</td>\n",
       "      <td>2</td>\n",
       "      <td>20196.0</td>\n",
       "    </tr>\n",
       "    <tr>\n",
       "      <td>1</td>\n",
       "      <td>2020-08-17</td>\n",
       "      <td>AL</td>\n",
       "      <td>Anadia</td>\n",
       "      <td>425</td>\n",
       "      <td>6</td>\n",
       "      <td>17545.0</td>\n",
       "    </tr>\n",
       "    <tr>\n",
       "      <td>2</td>\n",
       "      <td>2020-08-17</td>\n",
       "      <td>AL</td>\n",
       "      <td>Arapiraca</td>\n",
       "      <td>9895</td>\n",
       "      <td>123</td>\n",
       "      <td>231747.0</td>\n",
       "    </tr>\n",
       "    <tr>\n",
       "      <td>3</td>\n",
       "      <td>2020-08-17</td>\n",
       "      <td>AL</td>\n",
       "      <td>Atalaia</td>\n",
       "      <td>540</td>\n",
       "      <td>17</td>\n",
       "      <td>47185.0</td>\n",
       "    </tr>\n",
       "    <tr>\n",
       "      <td>4</td>\n",
       "      <td>2020-08-17</td>\n",
       "      <td>AL</td>\n",
       "      <td>Barra de Santo Antônio</td>\n",
       "      <td>122</td>\n",
       "      <td>9</td>\n",
       "      <td>15932.0</td>\n",
       "    </tr>\n",
       "    <tr>\n",
       "      <td>...</td>\n",
       "      <td>...</td>\n",
       "      <td>...</td>\n",
       "      <td>...</td>\n",
       "      <td>...</td>\n",
       "      <td>...</td>\n",
       "      <td>...</td>\n",
       "    </tr>\n",
       "    <tr>\n",
       "      <td>5533</td>\n",
       "      <td>2020-08-10</td>\n",
       "      <td>RN</td>\n",
       "      <td>Várzea</td>\n",
       "      <td>81</td>\n",
       "      <td>5</td>\n",
       "      <td>5500.0</td>\n",
       "    </tr>\n",
       "    <tr>\n",
       "      <td>5534</td>\n",
       "      <td>2020-08-10</td>\n",
       "      <td>RN</td>\n",
       "      <td>Venha-Ver</td>\n",
       "      <td>9</td>\n",
       "      <td>3</td>\n",
       "      <td>4177.0</td>\n",
       "    </tr>\n",
       "    <tr>\n",
       "      <td>5535</td>\n",
       "      <td>2020-08-10</td>\n",
       "      <td>RN</td>\n",
       "      <td>Vera Cruz</td>\n",
       "      <td>120</td>\n",
       "      <td>6</td>\n",
       "      <td>12481.0</td>\n",
       "    </tr>\n",
       "    <tr>\n",
       "      <td>5536</td>\n",
       "      <td>2020-08-10</td>\n",
       "      <td>RN</td>\n",
       "      <td>Viçosa</td>\n",
       "      <td>8</td>\n",
       "      <td>0</td>\n",
       "      <td>1718.0</td>\n",
       "    </tr>\n",
       "    <tr>\n",
       "      <td>5537</td>\n",
       "      <td>2020-08-10</td>\n",
       "      <td>RN</td>\n",
       "      <td>Vila Flor</td>\n",
       "      <td>82</td>\n",
       "      <td>0</td>\n",
       "      <td>3170.0</td>\n",
       "    </tr>\n",
       "  </tbody>\n",
       "</table>\n",
       "<p>5538 rows × 6 columns</p>\n",
       "</div>"
      ],
      "text/plain": [
       "            data estado                  cidade  confirmados  mortes  \\\n",
       "0     2020-08-17     AL             Água Branca           69       2   \n",
       "1     2020-08-17     AL                  Anadia          425       6   \n",
       "2     2020-08-17     AL               Arapiraca         9895     123   \n",
       "3     2020-08-17     AL                 Atalaia          540      17   \n",
       "4     2020-08-17     AL  Barra de Santo Antônio          122       9   \n",
       "...          ...    ...                     ...          ...     ...   \n",
       "5533  2020-08-10     RN                  Várzea           81       5   \n",
       "5534  2020-08-10     RN               Venha-Ver            9       3   \n",
       "5535  2020-08-10     RN               Vera Cruz          120       6   \n",
       "5536  2020-08-10     RN                  Viçosa            8       0   \n",
       "5537  2020-08-10     RN               Vila Flor           82       0   \n",
       "\n",
       "      estimativa população  \n",
       "0                  20196.0  \n",
       "1                  17545.0  \n",
       "2                 231747.0  \n",
       "3                  47185.0  \n",
       "4                  15932.0  \n",
       "...                    ...  \n",
       "5533                5500.0  \n",
       "5534                4177.0  \n",
       "5535               12481.0  \n",
       "5536                1718.0  \n",
       "5537                3170.0  \n",
       "\n",
       "[5538 rows x 6 columns]"
      ]
     },
     "execution_count": 13,
     "metadata": {},
     "output_type": "execute_result"
    }
   ],
   "source": [
    "df_covid"
   ]
  },
  {
   "cell_type": "code",
   "execution_count": 14,
   "metadata": {},
   "outputs": [
    {
     "data": {
      "text/html": [
       "<div>\n",
       "<style scoped>\n",
       "    .dataframe tbody tr th:only-of-type {\n",
       "        vertical-align: middle;\n",
       "    }\n",
       "\n",
       "    .dataframe tbody tr th {\n",
       "        vertical-align: top;\n",
       "    }\n",
       "\n",
       "    .dataframe thead th {\n",
       "        text-align: right;\n",
       "    }\n",
       "</style>\n",
       "<table border=\"1\" class=\"dataframe\">\n",
       "  <thead>\n",
       "    <tr style=\"text-align: right;\">\n",
       "      <th></th>\n",
       "      <th>confirmados</th>\n",
       "      <th>mortes</th>\n",
       "      <th>estimativa população</th>\n",
       "    </tr>\n",
       "  </thead>\n",
       "  <tbody>\n",
       "    <tr>\n",
       "      <td>count</td>\n",
       "      <td>5538.000000</td>\n",
       "      <td>5538.000000</td>\n",
       "      <td>5.519000e+03</td>\n",
       "    </tr>\n",
       "    <tr>\n",
       "      <td>mean</td>\n",
       "      <td>601.745937</td>\n",
       "      <td>19.439509</td>\n",
       "      <td>3.803897e+04</td>\n",
       "    </tr>\n",
       "    <tr>\n",
       "      <td>std</td>\n",
       "      <td>4288.205161</td>\n",
       "      <td>209.703095</td>\n",
       "      <td>2.224553e+05</td>\n",
       "    </tr>\n",
       "    <tr>\n",
       "      <td>min</td>\n",
       "      <td>0.000000</td>\n",
       "      <td>0.000000</td>\n",
       "      <td>7.810000e+02</td>\n",
       "    </tr>\n",
       "    <tr>\n",
       "      <td>25%</td>\n",
       "      <td>30.000000</td>\n",
       "      <td>0.000000</td>\n",
       "      <td>5.505000e+03</td>\n",
       "    </tr>\n",
       "    <tr>\n",
       "      <td>50%</td>\n",
       "      <td>97.000000</td>\n",
       "      <td>2.000000</td>\n",
       "      <td>1.173300e+04</td>\n",
       "    </tr>\n",
       "    <tr>\n",
       "      <td>75%</td>\n",
       "      <td>327.000000</td>\n",
       "      <td>7.000000</td>\n",
       "      <td>2.565650e+04</td>\n",
       "    </tr>\n",
       "    <tr>\n",
       "      <td>max</td>\n",
       "      <td>236163.000000</td>\n",
       "      <td>10625.000000</td>\n",
       "      <td>1.225202e+07</td>\n",
       "    </tr>\n",
       "  </tbody>\n",
       "</table>\n",
       "</div>"
      ],
      "text/plain": [
       "         confirmados        mortes  estimativa população\n",
       "count    5538.000000   5538.000000          5.519000e+03\n",
       "mean      601.745937     19.439509          3.803897e+04\n",
       "std      4288.205161    209.703095          2.224553e+05\n",
       "min         0.000000      0.000000          7.810000e+02\n",
       "25%        30.000000      0.000000          5.505000e+03\n",
       "50%        97.000000      2.000000          1.173300e+04\n",
       "75%       327.000000      7.000000          2.565650e+04\n",
       "max    236163.000000  10625.000000          1.225202e+07"
      ]
     },
     "execution_count": 14,
     "metadata": {},
     "output_type": "execute_result"
    }
   ],
   "source": [
    "df_covid.describe()"
   ]
  },
  {
   "cell_type": "code",
   "execution_count": null,
   "metadata": {},
   "outputs": [],
   "source": []
  },
  {
   "cell_type": "code",
   "execution_count": 15,
   "metadata": {},
   "outputs": [],
   "source": [
    "df_covid_group_sigla = df_covid.groupby(['estado'])"
   ]
  },
  {
   "cell_type": "code",
   "execution_count": 16,
   "metadata": {},
   "outputs": [],
   "source": [
    "casosNovos = df_covid['confirmados'].groupby(df_covid['data'])\n",
    "dates = df_covid['data'].groupby(df_covid['data'])"
   ]
  },
  {
   "cell_type": "code",
   "execution_count": 17,
   "metadata": {},
   "outputs": [
    {
     "data": {
      "text/plain": [
       "pandas.core.groupby.generic.SeriesGroupBy"
      ]
     },
     "execution_count": 17,
     "metadata": {},
     "output_type": "execute_result"
    }
   ],
   "source": [
    "type(casosNovos)"
   ]
  },
  {
   "cell_type": "code",
   "execution_count": 18,
   "metadata": {},
   "outputs": [],
   "source": [
    "mediaConfirmados = casosNovos.mean()\n",
    "somaConfirmados = casosNovos.sum()"
   ]
  },
  {
   "cell_type": "code",
   "execution_count": 29,
   "metadata": {},
   "outputs": [
    {
     "data": {
      "text/html": [
       "<div>\n",
       "<style scoped>\n",
       "    .dataframe tbody tr th:only-of-type {\n",
       "        vertical-align: middle;\n",
       "    }\n",
       "\n",
       "    .dataframe tbody tr th {\n",
       "        vertical-align: top;\n",
       "    }\n",
       "\n",
       "    .dataframe thead th {\n",
       "        text-align: right;\n",
       "    }\n",
       "</style>\n",
       "<table border=\"1\" class=\"dataframe\">\n",
       "  <thead>\n",
       "    <tr style=\"text-align: right;\">\n",
       "      <th></th>\n",
       "      <th>data</th>\n",
       "      <th>estado</th>\n",
       "      <th>cidade</th>\n",
       "      <th>confirmados</th>\n",
       "      <th>mortes</th>\n",
       "      <th>estimativa população</th>\n",
       "    </tr>\n",
       "  </thead>\n",
       "  <tbody>\n",
       "    <tr>\n",
       "      <td>0</td>\n",
       "      <td>2020-08-17</td>\n",
       "      <td>AL</td>\n",
       "      <td>Água Branca</td>\n",
       "      <td>69</td>\n",
       "      <td>2</td>\n",
       "      <td>20196.0</td>\n",
       "    </tr>\n",
       "    <tr>\n",
       "      <td>1</td>\n",
       "      <td>2020-08-17</td>\n",
       "      <td>AL</td>\n",
       "      <td>Anadia</td>\n",
       "      <td>425</td>\n",
       "      <td>6</td>\n",
       "      <td>17545.0</td>\n",
       "    </tr>\n",
       "    <tr>\n",
       "      <td>2</td>\n",
       "      <td>2020-08-17</td>\n",
       "      <td>AL</td>\n",
       "      <td>Arapiraca</td>\n",
       "      <td>9895</td>\n",
       "      <td>123</td>\n",
       "      <td>231747.0</td>\n",
       "    </tr>\n",
       "    <tr>\n",
       "      <td>3</td>\n",
       "      <td>2020-08-17</td>\n",
       "      <td>AL</td>\n",
       "      <td>Atalaia</td>\n",
       "      <td>540</td>\n",
       "      <td>17</td>\n",
       "      <td>47185.0</td>\n",
       "    </tr>\n",
       "    <tr>\n",
       "      <td>4</td>\n",
       "      <td>2020-08-17</td>\n",
       "      <td>AL</td>\n",
       "      <td>Barra de Santo Antônio</td>\n",
       "      <td>122</td>\n",
       "      <td>9</td>\n",
       "      <td>15932.0</td>\n",
       "    </tr>\n",
       "    <tr>\n",
       "      <td>...</td>\n",
       "      <td>...</td>\n",
       "      <td>...</td>\n",
       "      <td>...</td>\n",
       "      <td>...</td>\n",
       "      <td>...</td>\n",
       "      <td>...</td>\n",
       "    </tr>\n",
       "    <tr>\n",
       "      <td>5533</td>\n",
       "      <td>2020-08-10</td>\n",
       "      <td>RN</td>\n",
       "      <td>Várzea</td>\n",
       "      <td>81</td>\n",
       "      <td>5</td>\n",
       "      <td>5500.0</td>\n",
       "    </tr>\n",
       "    <tr>\n",
       "      <td>5534</td>\n",
       "      <td>2020-08-10</td>\n",
       "      <td>RN</td>\n",
       "      <td>Venha-Ver</td>\n",
       "      <td>9</td>\n",
       "      <td>3</td>\n",
       "      <td>4177.0</td>\n",
       "    </tr>\n",
       "    <tr>\n",
       "      <td>5535</td>\n",
       "      <td>2020-08-10</td>\n",
       "      <td>RN</td>\n",
       "      <td>Vera Cruz</td>\n",
       "      <td>120</td>\n",
       "      <td>6</td>\n",
       "      <td>12481.0</td>\n",
       "    </tr>\n",
       "    <tr>\n",
       "      <td>5536</td>\n",
       "      <td>2020-08-10</td>\n",
       "      <td>RN</td>\n",
       "      <td>Viçosa</td>\n",
       "      <td>8</td>\n",
       "      <td>0</td>\n",
       "      <td>1718.0</td>\n",
       "    </tr>\n",
       "    <tr>\n",
       "      <td>5537</td>\n",
       "      <td>2020-08-10</td>\n",
       "      <td>RN</td>\n",
       "      <td>Vila Flor</td>\n",
       "      <td>82</td>\n",
       "      <td>0</td>\n",
       "      <td>3170.0</td>\n",
       "    </tr>\n",
       "  </tbody>\n",
       "</table>\n",
       "<p>5538 rows × 6 columns</p>\n",
       "</div>"
      ],
      "text/plain": [
       "            data estado                  cidade  confirmados  mortes  \\\n",
       "0     2020-08-17     AL             Água Branca           69       2   \n",
       "1     2020-08-17     AL                  Anadia          425       6   \n",
       "2     2020-08-17     AL               Arapiraca         9895     123   \n",
       "3     2020-08-17     AL                 Atalaia          540      17   \n",
       "4     2020-08-17     AL  Barra de Santo Antônio          122       9   \n",
       "...          ...    ...                     ...          ...     ...   \n",
       "5533  2020-08-10     RN                  Várzea           81       5   \n",
       "5534  2020-08-10     RN               Venha-Ver            9       3   \n",
       "5535  2020-08-10     RN               Vera Cruz          120       6   \n",
       "5536  2020-08-10     RN                  Viçosa            8       0   \n",
       "5537  2020-08-10     RN               Vila Flor           82       0   \n",
       "\n",
       "      estimativa população  \n",
       "0                  20196.0  \n",
       "1                  17545.0  \n",
       "2                 231747.0  \n",
       "3                  47185.0  \n",
       "4                  15932.0  \n",
       "...                    ...  \n",
       "5533                5500.0  \n",
       "5534                4177.0  \n",
       "5535               12481.0  \n",
       "5536                1718.0  \n",
       "5537                3170.0  \n",
       "\n",
       "[5538 rows x 6 columns]"
      ]
     },
     "execution_count": 29,
     "metadata": {},
     "output_type": "execute_result"
    }
   ],
   "source": [
    "df_covid"
   ]
  },
  {
   "cell_type": "code",
   "execution_count": 31,
   "metadata": {},
   "outputs": [],
   "source": [
    "dates = df_covid['data'].groupby(df_covid['data'])"
   ]
  },
  {
   "cell_type": "code",
   "execution_count": 32,
   "metadata": {},
   "outputs": [
    {
     "data": {
      "text/plain": [
       "data\n",
       "2020-08-10    2020-08-102020-08-102020-08-102020-08-102020-0...\n",
       "2020-08-14    2020-08-142020-08-142020-08-142020-08-142020-0...\n",
       "2020-08-15    2020-08-152020-08-152020-08-152020-08-152020-0...\n",
       "2020-08-16    2020-08-162020-08-162020-08-162020-08-162020-0...\n",
       "2020-08-17    2020-08-172020-08-172020-08-172020-08-172020-0...\n",
       "Name: data, dtype: object"
      ]
     },
     "execution_count": 32,
     "metadata": {},
     "output_type": "execute_result"
    }
   ],
   "source": [
    "dates.sum()"
   ]
  },
  {
   "cell_type": "code",
   "execution_count": 33,
   "metadata": {},
   "outputs": [
    {
     "data": {
      "text/plain": [
       "estado\n",
       "AC    2020-08-162020-08-162020-08-162020-08-162020-0...\n",
       "AL    2020-08-172020-08-172020-08-172020-08-172020-0...\n",
       "AM    2020-08-142020-08-142020-08-142020-08-142020-0...\n",
       "AP    2020-08-152020-08-152020-08-152020-08-152020-0...\n",
       "BA    2020-08-162020-08-162020-08-162020-08-162020-0...\n",
       "CE    2020-08-172020-08-172020-08-172020-08-172020-0...\n",
       "DF                                 2020-08-162020-08-16\n",
       "ES    2020-08-162020-08-162020-08-162020-08-162020-0...\n",
       "GO    2020-08-162020-08-162020-08-162020-08-162020-0...\n",
       "MA    2020-08-162020-08-162020-08-162020-08-162020-0...\n",
       "MG    2020-08-152020-08-152020-08-152020-08-152020-0...\n",
       "MS    2020-08-142020-08-142020-08-142020-08-142020-0...\n",
       "MT    2020-08-102020-08-102020-08-102020-08-102020-0...\n",
       "PA    2020-08-162020-08-162020-08-162020-08-162020-0...\n",
       "PB    2020-08-162020-08-162020-08-162020-08-162020-0...\n",
       "PE    2020-08-162020-08-162020-08-162020-08-162020-0...\n",
       "PI    2020-08-162020-08-162020-08-162020-08-162020-0...\n",
       "PR    2020-08-152020-08-152020-08-152020-08-152020-0...\n",
       "RJ    2020-08-162020-08-162020-08-162020-08-162020-0...\n",
       "RN    2020-08-102020-08-102020-08-102020-08-102020-0...\n",
       "RO    2020-08-152020-08-152020-08-152020-08-152020-0...\n",
       "RR    2020-08-152020-08-152020-08-152020-08-152020-0...\n",
       "RS    2020-08-162020-08-162020-08-162020-08-162020-0...\n",
       "SC    2020-08-172020-08-172020-08-172020-08-172020-0...\n",
       "SE    2020-08-162020-08-162020-08-162020-08-162020-0...\n",
       "SP    2020-08-172020-08-172020-08-172020-08-172020-0...\n",
       "TO    2020-08-152020-08-152020-08-152020-08-152020-0...\n",
       "Name: data, dtype: object"
      ]
     },
     "execution_count": 33,
     "metadata": {},
     "output_type": "execute_result"
    }
   ],
   "source": [
    "df_covid_group_sigla['data'].sum()"
   ]
  },
  {
   "cell_type": "code",
   "execution_count": 37,
   "metadata": {},
   "outputs": [],
   "source": [
    "new_cases = df_covid['confirmados'].sum()"
   ]
  },
  {
   "cell_type": "code",
   "execution_count": 64,
   "metadata": {},
   "outputs": [
    {
     "data": {
      "text/plain": [
       "date\n",
       "01/02/20       0\n",
       "01/03/20       0\n",
       "01/04/20    1117\n",
       "02/02/20       0\n",
       "02/03/20       0\n",
       "            ... \n",
       "29/03/20     353\n",
       "30/01/20       0\n",
       "30/03/20     323\n",
       "31/01/20       0\n",
       "31/03/20    1138\n",
       "Name: casosNovos, Length: 69, dtype: int64"
      ]
     },
     "execution_count": 64,
     "metadata": {},
     "output_type": "execute_result"
    }
   ],
   "source": [
    "new_cases"
   ]
  },
  {
   "cell_type": "code",
   "execution_count": 38,
   "metadata": {},
   "outputs": [
    {
     "data": {
      "text/plain": [
       "pandas.core.frame.DataFrame"
      ]
     },
     "execution_count": 38,
     "metadata": {},
     "output_type": "execute_result"
    }
   ],
   "source": [
    "type(df_covid)"
   ]
  },
  {
   "cell_type": "code",
   "execution_count": 39,
   "metadata": {},
   "outputs": [
    {
     "data": {
      "text/plain": [
       "<matplotlib.axes._subplots.AxesSubplot at 0x7f76f15fee10>"
      ]
     },
     "execution_count": 39,
     "metadata": {},
     "output_type": "execute_result"
    },
    {
     "data": {
      "image/png": "[encoded data removed]",
      "text/plain": [
       "<Figure size 432x288 with 1 Axes>"
      ]
     },
     "metadata": {
      "needs_background": "light"
     },
     "output_type": "display_data"
    }
   ],
   "source": [
    "sns.distplot(df_covid['confirmados'])"
   ]
  },
  {
   "cell_type": "code",
   "execution_count": 42,
   "metadata": {},
   "outputs": [
    {
     "data": {
      "text/plain": [
       "<seaborn.axisgrid.JointGrid at 0x7f76eefb5b50>"
      ]
     },
     "execution_count": 42,
     "metadata": {},
     "output_type": "execute_result"
    },
    {
     "data": {
      "image/png": "[encoded data removed]",
      "text/plain": [
       "<Figure size 432x432 with 3 Axes>"
      ]
     },
     "metadata": {
      "needs_background": "light"
     },
     "output_type": "display_data"
    }
   ],
   "source": [
    "sns.jointplot(x=df_covid['mortes'],y=df_covid['confirmados'],data=df_covid)"
   ]
  },
  {
   "cell_type": "code",
   "execution_count": 47,
   "metadata": {},
   "outputs": [
    {
     "data": {
      "text/plain": [
       "estado\n",
       "AC     22548\n",
       "AL     72938\n",
       "AM    110777\n",
       "AP     39431\n",
       "BA    216030\n",
       "CE    198252\n",
       "DF    136467\n",
       "ES     99580\n",
       "GO    101919\n",
       "MA    136853\n",
       "MG    171514\n",
       "MS     36542\n",
       "MT     65346\n",
       "PA    178375\n",
       "PB     96033\n",
       "PE    112958\n",
       "PI     66315\n",
       "PR    103771\n",
       "RJ    194279\n",
       "RN     58072\n",
       "RO     47652\n",
       "RR     39623\n",
       "RS     97877\n",
       "SC    121666\n",
       "SE     67997\n",
       "SP    702665\n",
       "TO     36989\n",
       "Name: confirmados, dtype: int64"
      ]
     },
     "execution_count": 47,
     "metadata": {},
     "output_type": "execute_result"
    }
   ],
   "source": [
    "df_covid_group_sigla['confirmados'].sum()"
   ]
  },
  {
   "cell_type": "code",
   "execution_count": 48,
   "metadata": {},
   "outputs": [
    {
     "data": {
      "text/plain": [
       "0       2020-08-17\n",
       "1       2020-08-17\n",
       "2       2020-08-17\n",
       "3       2020-08-17\n",
       "4       2020-08-17\n",
       "           ...    \n",
       "5533    2020-08-10\n",
       "5534    2020-08-10\n",
       "5535    2020-08-10\n",
       "5536    2020-08-10\n",
       "5537    2020-08-10\n",
       "Name: data, Length: 5538, dtype: object"
      ]
     },
     "execution_count": 48,
     "metadata": {},
     "output_type": "execute_result"
    }
   ],
   "source": [
    "df_covid['data']"
   ]
  },
  {
   "cell_type": "code",
   "execution_count": 51,
   "metadata": {},
   "outputs": [
    {
     "data": {
      "image/png": "[encoded data removed]",
      "text/plain": [
       "<Figure size 592.375x540 with 12 Axes>"
      ]
     },
     "metadata": {
      "needs_background": "light"
     },
     "output_type": "display_data"
    }
   ],
   "source": [
    "#Gráfico de dispersão por região utilizando o seaborn\n",
    "sns.pairplot(df_covid,hue='estado');"
   ]
  },
  {
   "cell_type": "code",
   "execution_count": 28,
   "metadata": {},
   "outputs": [],
   "source": [
    "df = pd.DataFrame(mediaConfirmados);"
   ]
  },
  {
   "cell_type": "code",
   "execution_count": 20,
   "metadata": {},
   "outputs": [
    {
     "data": {
      "text/plain": [
       "pandas.core.frame.DataFrame"
      ]
     },
     "execution_count": 20,
     "metadata": {},
     "output_type": "execute_result"
    }
   ],
   "source": [
    "#df.columns = ['data','confirmados']\n",
    "type(df)"
   ]
  },
  {
   "cell_type": "code",
   "execution_count": 30,
   "metadata": {},
   "outputs": [
    {
     "data": {
      "text/html": [
       "<div>\n",
       "<style scoped>\n",
       "    .dataframe tbody tr th:only-of-type {\n",
       "        vertical-align: middle;\n",
       "    }\n",
       "\n",
       "    .dataframe tbody tr th {\n",
       "        vertical-align: top;\n",
       "    }\n",
       "\n",
       "    .dataframe thead th {\n",
       "        text-align: right;\n",
       "    }\n",
       "</style>\n",
       "<table border=\"1\" class=\"dataframe\">\n",
       "  <thead>\n",
       "    <tr style=\"text-align: right;\">\n",
       "      <th></th>\n",
       "      <th>confirmados</th>\n",
       "    </tr>\n",
       "    <tr>\n",
       "      <th>data</th>\n",
       "      <th></th>\n",
       "    </tr>\n",
       "  </thead>\n",
       "  <tbody>\n",
       "    <tr>\n",
       "      <td>2020-08-10</td>\n",
       "      <td>399.411003</td>\n",
       "    </tr>\n",
       "    <tr>\n",
       "      <td>2020-08-14</td>\n",
       "      <td>1044.815603</td>\n",
       "    </tr>\n",
       "    <tr>\n",
       "      <td>2020-08-15</td>\n",
       "      <td>302.953761</td>\n",
       "    </tr>\n",
       "    <tr>\n",
       "      <td>2020-08-16</td>\n",
       "      <td>633.705809</td>\n",
       "    </tr>\n",
       "    <tr>\n",
       "      <td>2020-08-17</td>\n",
       "      <td>891.392189</td>\n",
       "    </tr>\n",
       "  </tbody>\n",
       "</table>\n",
       "</div>"
      ],
      "text/plain": [
       "            confirmados\n",
       "data                   \n",
       "2020-08-10   399.411003\n",
       "2020-08-14  1044.815603\n",
       "2020-08-15   302.953761\n",
       "2020-08-16   633.705809\n",
       "2020-08-17   891.392189"
      ]
     },
     "execution_count": 30,
     "metadata": {},
     "output_type": "execute_result"
    }
   ],
   "source": [
    "df.head()"
   ]
  },
  {
   "cell_type": "code",
   "execution_count": 31,
   "metadata": {},
   "outputs": [
    {
     "data": {
      "text/html": [
       "<div>\n",
       "<style scoped>\n",
       "    .dataframe tbody tr th:only-of-type {\n",
       "        vertical-align: middle;\n",
       "    }\n",
       "\n",
       "    .dataframe tbody tr th {\n",
       "        vertical-align: top;\n",
       "    }\n",
       "\n",
       "    .dataframe thead th {\n",
       "        text-align: right;\n",
       "    }\n",
       "</style>\n",
       "<table border=\"1\" class=\"dataframe\">\n",
       "  <thead>\n",
       "    <tr style=\"text-align: right;\">\n",
       "      <th></th>\n",
       "      <th>data</th>\n",
       "      <th>confirmados</th>\n",
       "    </tr>\n",
       "  </thead>\n",
       "  <tbody>\n",
       "    <tr>\n",
       "      <td>0</td>\n",
       "      <td>2020-08-10</td>\n",
       "      <td>399.411003</td>\n",
       "    </tr>\n",
       "    <tr>\n",
       "      <td>1</td>\n",
       "      <td>2020-08-14</td>\n",
       "      <td>1044.815603</td>\n",
       "    </tr>\n",
       "    <tr>\n",
       "      <td>2</td>\n",
       "      <td>2020-08-15</td>\n",
       "      <td>302.953761</td>\n",
       "    </tr>\n",
       "    <tr>\n",
       "      <td>3</td>\n",
       "      <td>2020-08-16</td>\n",
       "      <td>633.705809</td>\n",
       "    </tr>\n",
       "    <tr>\n",
       "      <td>4</td>\n",
       "      <td>2020-08-17</td>\n",
       "      <td>891.392189</td>\n",
       "    </tr>\n",
       "  </tbody>\n",
       "</table>\n",
       "</div>"
      ],
      "text/plain": [
       "         data  confirmados\n",
       "0  2020-08-10   399.411003\n",
       "1  2020-08-14  1044.815603\n",
       "2  2020-08-15   302.953761\n",
       "3  2020-08-16   633.705809\n",
       "4  2020-08-17   891.392189"
      ]
     },
     "execution_count": 31,
     "metadata": {},
     "output_type": "execute_result"
    }
   ],
   "source": [
    "df = df.reset_index()\n",
    "df"
   ]
  },
  {
   "cell_type": "code",
   "execution_count": 27,
   "metadata": {},
   "outputs": [
    {
     "data": {
      "image/png": "[encoded data removed]",
      "text/plain": [
       "<Figure size 432x288 with 1 Axes>"
      ]
     },
     "metadata": {
      "needs_background": "light"
     },
     "output_type": "display_data"
    }
   ],
   "source": [
    "sns.barplot(x=df['data'],y = df['confirmados']);"
   ]
  }
 ],
 "metadata": {
  "kernelspec": {
   "display_name": "Python 3",
   "language": "python",
   "name": "python3"
  },
  "language_info": {
   "codemirror_mode": {
    "name": "ipython",
    "version": 3
   },
   "file_extension": ".py",
   "mimetype": "text/x-python",
   "name": "python",
   "nbconvert_exporter": "python",
   "pygments_lexer": "ipython3",
   "version": "3.7.4"
  }
 },
 "nbformat": 4,
 "nbformat_minor": 2
}
